{
 "cells": [
  {
   "cell_type": "code",
   "execution_count": 24,
   "id": "48778279",
   "metadata": {},
   "outputs": [],
   "source": [
    "import numpy as np\n",
    "from pyspark.sql import SparkSession\n",
    "\n",
    "spark = SparkSession.builder \\\n",
    "    .appName(\"HDFSToPythonImages\") \\\n",
    "    .getOrCreate()\n"
   ]
  },
  {
   "cell_type": "code",
   "execution_count": 25,
   "id": "15e00095",
   "metadata": {},
   "outputs": [],
   "source": [
    "hdfs_image_dir = \"/DATASET/Decks\"\n"
   ]
  },
  {
   "cell_type": "code",
   "execution_count": 26,
   "id": "cf7dbe8a",
   "metadata": {},
   "outputs": [],
   "source": [
    "jpg_files = spark.sparkContext.binaryFiles(\"/DATASET/Decks/*.jpg\")\n"
   ]
  },
  {
   "cell_type": "code",
   "execution_count": 1,
   "id": "7a5dc75b",
   "metadata": {},
   "outputs": [
    {
     "ename": "FileNotFoundError",
     "evalue": "[Errno 2] No such file or directory: '/DATASET/Decks'",
     "output_type": "error",
     "traceback": [
      "\u001b[0;31m---------------------------------------------------------------------------\u001b[0m",
      "\u001b[0;31mFileNotFoundError\u001b[0m                         Traceback (most recent call last)",
      "\u001b[0;32m/tmp/ipykernel_6290/4244427947.py\u001b[0m in \u001b[0;36m<module>\u001b[0;34m\u001b[0m\n\u001b[1;32m     32\u001b[0m     \u001b[0;32mreturn\u001b[0m \u001b[0mnp\u001b[0m\u001b[0;34m.\u001b[0m\u001b[0marray\u001b[0m\u001b[0;34m(\u001b[0m\u001b[0mimgs\u001b[0m\u001b[0;34m)\u001b[0m\u001b[0;34m,\u001b[0m \u001b[0mlabel\u001b[0m\u001b[0;34m\u001b[0m\u001b[0;34m\u001b[0m\u001b[0m\n\u001b[1;32m     33\u001b[0m \u001b[0;34m\u001b[0m\u001b[0m\n\u001b[0;32m---> 34\u001b[0;31m \u001b[0mx\u001b[0m\u001b[0;34m,\u001b[0m \u001b[0my\u001b[0m \u001b[0;34m=\u001b[0m \u001b[0mload_imgs\u001b[0m\u001b[0;34m(\u001b[0m\u001b[0;34m'/DATASET/Decks'\u001b[0m\u001b[0;34m)\u001b[0m\u001b[0;34m\u001b[0m\u001b[0;34m\u001b[0m\u001b[0m\n\u001b[0m",
      "\u001b[0;32m/tmp/ipykernel_6290/4244427947.py\u001b[0m in \u001b[0;36mload_imgs\u001b[0;34m(impath)\u001b[0m\n\u001b[1;32m     13\u001b[0m \u001b[0;34m\u001b[0m\u001b[0m\n\u001b[1;32m     14\u001b[0m     \u001b[0;31m# 'impath' yolundaki dosyaları listele\u001b[0m\u001b[0;34m\u001b[0m\u001b[0;34m\u001b[0m\u001b[0m\n\u001b[0;32m---> 15\u001b[0;31m     \u001b[0ml1\u001b[0m \u001b[0;34m=\u001b[0m \u001b[0mos\u001b[0m\u001b[0;34m.\u001b[0m\u001b[0mlistdir\u001b[0m\u001b[0;34m(\u001b[0m\u001b[0mimpath\u001b[0m\u001b[0;34m)\u001b[0m\u001b[0;34m\u001b[0m\u001b[0;34m\u001b[0m\u001b[0m\n\u001b[0m\u001b[1;32m     16\u001b[0m     \u001b[0;32mfor\u001b[0m \u001b[0mi\u001b[0m \u001b[0;32min\u001b[0m \u001b[0ml1\u001b[0m\u001b[0;34m:\u001b[0m\u001b[0;34m\u001b[0m\u001b[0;34m\u001b[0m\u001b[0m\n\u001b[1;32m     17\u001b[0m         \u001b[0ml2\u001b[0m \u001b[0;34m=\u001b[0m \u001b[0mos\u001b[0m\u001b[0;34m.\u001b[0m\u001b[0mlistdir\u001b[0m\u001b[0;34m(\u001b[0m\u001b[0mos\u001b[0m\u001b[0;34m.\u001b[0m\u001b[0mpath\u001b[0m\u001b[0;34m.\u001b[0m\u001b[0mjoin\u001b[0m\u001b[0;34m(\u001b[0m\u001b[0mimpath\u001b[0m\u001b[0;34m,\u001b[0m \u001b[0mi\u001b[0m\u001b[0;34m)\u001b[0m\u001b[0;34m)\u001b[0m\u001b[0;34m\u001b[0m\u001b[0;34m\u001b[0m\u001b[0m\n",
      "\u001b[0;31mFileNotFoundError\u001b[0m: [Errno 2] No such file or directory: '/DATASET/Decks'"
     ]
    }
   ],
   "source": [
    "from pyspark.sql import SparkSession\n",
    "from PIL import Image\n",
    "import os\n",
    "\n",
    "# PySpark session'ını başlatın\n",
    "spark = SparkSession.builder \\\n",
    "    .appName(\"ImageDatasetLoader\") \\\n",
    "    .getOrCreate()\n",
    "\n",
    "def load_imgs(impath):\n",
    "    imgs = []\n",
    "    label = []\n",
    "    \n",
    "    # 'impath' yolundaki dosyaları listele\n",
    "    l1 = os.listdir(impath)\n",
    "    for i in l1:\n",
    "        l2 = os.listdir(os.path.join(impath, i))\n",
    "        for j in l2:\n",
    "            file_path = os.path.join(impath, i, j)\n",
    "            \n",
    "            # Image açma ve boyutlandırma işlemleri\n",
    "            img = Image.open(file_path)\n",
    "            img = img.resize(size=(28, 28))\n",
    "            img_data = np.array(img, dtype=np.float16) / 255\n",
    "            \n",
    "            imgs.append(img_data)\n",
    "            label.append(i)\n",
    "    \n",
    "    # Etiketleri faktorize etme işlemi PySpark ile yapılabilir, ancak bu basit örnek için kullanmayacağım.\n",
    "    # PySpark DataFrames kullanarak daha karmaşık veri işleme yapabilirsiniz.\n",
    "    \n",
    "    return np.array(imgs), label\n",
    "\n",
    "x, y = load_imgs('/DATASET/Decks')"
   ]
  },
  {
   "cell_type": "code",
   "execution_count": null,
   "id": "5d587926",
   "metadata": {},
   "outputs": [],
   "source": []
  },
  {
   "cell_type": "code",
   "execution_count": null,
   "id": "cf2ed380",
   "metadata": {},
   "outputs": [],
   "source": []
  }
 ],
 "metadata": {
  "kernelspec": {
   "display_name": "Python 3 (ipykernel)",
   "language": "python",
   "name": "python3"
  },
  "language_info": {
   "codemirror_mode": {
    "name": "ipython",
    "version": 3
   },
   "file_extension": ".py",
   "mimetype": "text/x-python",
   "name": "python",
   "nbconvert_exporter": "python",
   "pygments_lexer": "ipython3",
   "version": "3.10.12"
  }
 },
 "nbformat": 4,
 "nbformat_minor": 5
}
