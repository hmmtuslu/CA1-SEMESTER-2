{
 "cells": [
  {
   "cell_type": "code",
   "execution_count": 20,
   "id": "effaa546",
   "metadata": {},
   "outputs": [],
   "source": [
    "from pyspark.sql import SparkSession\n",
    "from pyspark.sql.functions import udf\n",
    "from pyspark.sql.types import StringType\n",
    "from PIL import Image\n",
    "import numpy as np\n",
    "import os\n",
    "\n",
    "spark = SparkSession.builder.appName(\"ImageClassification\").getOrCreate()\n"
   ]
  },
  {
   "cell_type": "code",
   "execution_count": 30,
   "id": "4cd987aa",
   "metadata": {},
   "outputs": [
    {
     "ename": "TypeError",
     "evalue": "col should be Column",
     "output_type": "error",
     "traceback": [
      "\u001b[0;31m---------------------------------------------------------------------------\u001b[0m",
      "\u001b[0;31mTypeError\u001b[0m                                 Traceback (most recent call last)",
      "\u001b[0;32m/tmp/ipykernel_19038/2273996672.py\u001b[0m in \u001b[0;36m<module>\u001b[0;34m\u001b[0m\n\u001b[1;32m     41\u001b[0m \u001b[0;34m\u001b[0m\u001b[0m\n\u001b[1;32m     42\u001b[0m \u001b[0;31m# UDF'yi DataFrame üzerinde kullanma\u001b[0m\u001b[0;34m\u001b[0m\u001b[0;34m\u001b[0m\u001b[0m\n\u001b[0;32m---> 43\u001b[0;31m \u001b[0mprocessed_image_df\u001b[0m \u001b[0;34m=\u001b[0m \u001b[0mprocessed_image_df\u001b[0m\u001b[0;34m.\u001b[0m\u001b[0mwithColumn\u001b[0m\u001b[0;34m(\u001b[0m\u001b[0;34m\"class\"\u001b[0m\u001b[0;34m,\u001b[0m \u001b[0mudf_classify\u001b[0m\u001b[0;34m(\u001b[0m\u001b[0mcol\u001b[0m\u001b[0;34m(\u001b[0m\u001b[0;34m\"processed_image\"\u001b[0m\u001b[0;34m)\u001b[0m\u001b[0;34m)\u001b[0m\u001b[0;34m)\u001b[0m\u001b[0;34m\u001b[0m\u001b[0;34m\u001b[0m\u001b[0m\n\u001b[0m\u001b[1;32m     44\u001b[0m \u001b[0;34m\u001b[0m\u001b[0m\n\u001b[1;32m     45\u001b[0m \u001b[0;31m# Sonuçları görüntüle\u001b[0m\u001b[0;34m\u001b[0m\u001b[0;34m\u001b[0m\u001b[0m\n",
      "\u001b[0;32m/usr/local/spark/python/pyspark/sql/dataframe.py\u001b[0m in \u001b[0;36mwithColumn\u001b[0;34m(self, colName, col)\u001b[0m\n\u001b[1;32m   2475\u001b[0m         \"\"\"\n\u001b[1;32m   2476\u001b[0m         \u001b[0;32mif\u001b[0m \u001b[0;32mnot\u001b[0m \u001b[0misinstance\u001b[0m\u001b[0;34m(\u001b[0m\u001b[0mcol\u001b[0m\u001b[0;34m,\u001b[0m \u001b[0mColumn\u001b[0m\u001b[0;34m)\u001b[0m\u001b[0;34m:\u001b[0m\u001b[0;34m\u001b[0m\u001b[0;34m\u001b[0m\u001b[0m\n\u001b[0;32m-> 2477\u001b[0;31m             \u001b[0;32mraise\u001b[0m \u001b[0mTypeError\u001b[0m\u001b[0;34m(\u001b[0m\u001b[0;34m\"col should be Column\"\u001b[0m\u001b[0;34m)\u001b[0m\u001b[0;34m\u001b[0m\u001b[0;34m\u001b[0m\u001b[0m\n\u001b[0m\u001b[1;32m   2478\u001b[0m         \u001b[0;32mreturn\u001b[0m \u001b[0mDataFrame\u001b[0m\u001b[0;34m(\u001b[0m\u001b[0mself\u001b[0m\u001b[0;34m.\u001b[0m\u001b[0m_jdf\u001b[0m\u001b[0;34m.\u001b[0m\u001b[0mwithColumn\u001b[0m\u001b[0;34m(\u001b[0m\u001b[0mcolName\u001b[0m\u001b[0;34m,\u001b[0m \u001b[0mcol\u001b[0m\u001b[0;34m.\u001b[0m\u001b[0m_jc\u001b[0m\u001b[0;34m)\u001b[0m\u001b[0;34m,\u001b[0m \u001b[0mself\u001b[0m\u001b[0;34m.\u001b[0m\u001b[0msql_ctx\u001b[0m\u001b[0;34m)\u001b[0m\u001b[0;34m\u001b[0m\u001b[0;34m\u001b[0m\u001b[0m\n\u001b[1;32m   2479\u001b[0m \u001b[0;34m\u001b[0m\u001b[0m\n",
      "\u001b[0;31mTypeError\u001b[0m: col should be Column"
     ]
    }
   ],
   "source": [
    "from pyspark.sql.functions import udf\n",
    "from pyspark.sql.types import StringType\n",
    "from pyspark.sql import SparkSession\n",
    "from PIL import Image\n",
    "import numpy as np\n",
    "import os\n",
    "\n",
    "# Spark oturumunu başlat\n",
    "spark = SparkSession.builder.appName(\"ImageProcessing\").getOrCreate()\n",
    "\n",
    "# UDF oluştur\n",
    "def process_image(image_path):\n",
    "    try:\n",
    "        img = Image.open(image_path)\n",
    "        img = img.resize(size=(28, 28))\n",
    "        img_data = np.array(img, dtype=np.float16) / 255\n",
    "        return img_data\n",
    "    except Exception as e:\n",
    "        return None\n",
    "\n",
    "process_image_udf = udf(process_image, StringType())\n",
    "\n",
    "# Image dosyalarını yükle\n",
    "image_df = spark.read.format(\"image\").load(\"/Decks/Cracked\")\n",
    "\n",
    "# Dosya yolunda olmayan dosyaları filtrele\n",
    "image_df = image_df.filter(image_df[\"image\"].isNotNull())\n",
    "\n",
    "# Image dosyalarını işlemek için UDF'yi kullan\n",
    "processed_image_df = image_df.withColumn(\"processed_image\", process_image_udf(image_df[\"image\"]))\n",
    "\n",
    "# Sınıflandırma işlemi için kullanılacak UDF\n",
    "def udf_classify(img_data):\n",
    "    if img_data is not None:\n",
    "        # Sınıflandırma mantığını burada uygulayabilirsiniz\n",
    "        return \"Cracked\"  # Varsayılan olarak \"Cracked\" olarak sınıflandırıyoruz\n",
    "    else:\n",
    "        return None\n",
    "\n",
    "from pyspark.sql.functions import col\n",
    "\n",
    "# UDF'yi DataFrame üzerinde kullanma\n",
    "processed_image_df = processed_image_df.withColumn(\"class\", udf_classify(col(\"processed_image\")))\n",
    "\n",
    "# Sonuçları görüntüle\n",
    "processed_image_df.show()\n"
   ]
  },
  {
   "cell_type": "code",
   "execution_count": null,
   "id": "fcc48fe3",
   "metadata": {},
   "outputs": [],
   "source": [
    "if processed_image_df.count() > 0:\n",
    "    first_row = processed_image_df.first()\n",
    "    x = first_row[\"processed_image\"]\n",
    "    y = first_row[\"label\"]\n",
    "else:\n",
    "    print(\"DataFrame is empty\")\n"
   ]
  },
  {
   "cell_type": "code",
   "execution_count": null,
   "id": "0a1191be",
   "metadata": {},
   "outputs": [],
   "source": [
    "# İlk satırı alalım\n",
    "first_row = processed_image_df.first()\n",
    "\n",
    "# processed_image ve label sütunlarının değerlerini alalım\n",
    "x = first_row[\"processed_image\"]\n",
    "y = first_row[\"label\"]\n",
    "\n",
    "x, y = processed_image_df('/DATASET/Decks')"
   ]
  },
  {
   "cell_type": "code",
   "execution_count": null,
   "id": "5b00e9cf",
   "metadata": {},
   "outputs": [],
   "source": []
  }
 ],
 "metadata": {
  "kernelspec": {
   "display_name": "Python 3 (ipykernel)",
   "language": "python",
   "name": "python3"
  },
  "language_info": {
   "codemirror_mode": {
    "name": "ipython",
    "version": 3
   },
   "file_extension": ".py",
   "mimetype": "text/x-python",
   "name": "python",
   "nbconvert_exporter": "python",
   "pygments_lexer": "ipython3",
   "version": "3.10.12"
  }
 },
 "nbformat": 4,
 "nbformat_minor": 5
}
